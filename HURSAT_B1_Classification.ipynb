{
 "cells": [
  {
   "cell_type": "markdown",
   "metadata": {
    "id": "DJM30k0yHoqL"
   },
   "source": [
    "# **Libraries**"
   ]
  },
  {
   "cell_type": "code",
   "execution_count": null,
   "metadata": {
    "id": "O7lYd09LCpt0"
   },
   "outputs": [],
   "source": [
    "from google.colab import drive\n",
    "drive.mount('/content/drive')"
   ]
  },
  {
   "cell_type": "code",
   "execution_count": null,
   "metadata": {
    "id": "r7qPTBkoC5Tr"
   },
   "outputs": [],
   "source": [
    "import os\n",
    "import pandas as pd\n",
    "import tensorflow as tf\n",
    "import numpy as np\n",
    "import matplotlib.pyplot as plt\n",
    "import random\n",
    "import seaborn as sns\n",
    "import warnings\n",
    "warnings.filterwarnings('ignore')\n",
    "from keras import models, layers, metrics\n",
    "from keras.callbacks import EarlyStopping\n",
    "from keras.models import load_model, Model, Sequential\n",
    "from tensorflow.keras.applications.vgg16 import VGG16\n",
    "from tensorflow.keras.applications.inception_v3 import InceptionV3\n",
    "from tensorflow.keras.layers import Conv2D, Dropout, Dense, Flatten, MaxPooling2D, MaxPool2D\n",
    "from keras.preprocessing import image\n",
    "from keras import losses\n",
    "from sklearn.model_selection import train_test_split\n",
    "from sklearn.metrics import confusion_matrix, ConfusionMatrixDisplay\n",
    "from sklearn.preprocessing import LabelBinarizer\n",
    "from tensorflow.keras.optimizers import Adam\n",
    "from tensorflow.keras.callbacks import ModelCheckpoint"
   ]
  },
  {
   "cell_type": "markdown",
   "metadata": {
    "id": "MDWsb0pWIzPF"
   },
   "source": [
    "# **One time execution**"
   ]
  },
  {
   "cell_type": "code",
   "execution_count": null,
   "metadata": {
    "id": "XIJSxnl2DDBa"
   },
   "outputs": [],
   "source": [
    "def categorise_five_classes(row):\n",
    "    if row['Wind Speed'] <= 33:\n",
    "        return 'T. Depression'\n",
    "    elif row['Wind Speed'] <= 64:\n",
    "        return 'T. Storm'\n",
    "    elif row['Wind Speed'] <= 83:\n",
    "        return 'Category 1'\n",
    "    elif row['Wind Speed'] <= 95:\n",
    "        return 'Category 2'\n",
    "    return 'Category 3'"
   ]
  },
  {
   "cell_type": "code",
   "execution_count": null,
   "metadata": {
    "id": "stRtstPNUsRv"
   },
   "outputs": [],
   "source": [
    "def categorise_seven_classes(row):\n",
    "    if row['Wind Speed'] <= 33:\n",
    "        return 'T. Depression'\n",
    "    elif row['Wind Speed'] <= 64:\n",
    "        return 'T. Storm'\n",
    "    elif row['Wind Speed'] <= 83:\n",
    "        return 'Category 1'\n",
    "    elif row['Wind Speed'] <= 95:\n",
    "        return 'Category 2'\n",
    "    elif row['Wind Speed'] <= 113:\n",
    "        return 'Category 3'\n",
    "    elif row['Wind Speed'] <= 134:\n",
    "        return 'Category 4'\n",
    "    return 'Category 5'"
   ]
  },
  {
   "cell_type": "code",
   "execution_count": null,
   "metadata": {
    "id": "nttd8kYiDt4S"
   },
   "outputs": [],
   "source": [
    "label_path_NA = '/content/drive/MyDrive/HURSAT/hursat/NA_labels.npy'\n",
    "label_path_NP = '/content/drive/MyDrive/HURSAT/hursat/NP_labels.npy'\n",
    "label_path_NI = '/content/drive/MyDrive/HURSAT/hursat/NI_labels.npy'\n",
    "label_path_NP_NA = '/content/drive/MyDrive/HURSAT/hursat/NP_NA_labels.npy'\n",
    "label_path_NP_NI_NA = '/content/drive/MyDrive/HURSAT/hursat/NP_NI_NA_labels.npy'"
   ]
  },
  {
   "cell_type": "code",
   "execution_count": null,
   "metadata": {
    "id": "4mKUOThBEsv8"
   },
   "outputs": [],
   "source": [
    "data = np.load(label_path_NA)\n",
    "df = pd.DataFrame(data, columns = ['Wind Speed'])\n",
    "df['Wind Speed'] = df.apply(lambda row: categorise_five_classes(row), axis = 1)\n",
    "df.to_csv('/content/drive/MyDrive/HURSAT/hursat/NA_five_class_labels.csv')"
   ]
  },
  {
   "cell_type": "code",
   "execution_count": null,
   "metadata": {
    "id": "dRvjBWTMJXgB"
   },
   "outputs": [],
   "source": [
    "data = np.load(label_path_NA)\n",
    "df = pd.DataFrame(data, columns = ['Wind Speed'])\n",
    "df['Wind Speed'] = df.apply(lambda row: categorise_seven_classes(row), axis = 1)\n",
    "df.to_csv('/content/drive/MyDrive/HURSAT/hursat/NA_seven_class_labels.csv')"
   ]
  },
  {
   "cell_type": "code",
   "execution_count": null,
   "metadata": {
    "id": "NbdLoM-cDpBr"
   },
   "outputs": [],
   "source": [
    "data = np.load(label_path_NP)\n",
    "df = pd.DataFrame(data, columns = ['Wind Speed'])\n",
    "df['Wind Speed'] = df.apply(lambda row: categorise_five_classes(row), axis = 1)\n",
    "df.to_csv('/content/drive/MyDrive/HURSAT/hursat/NP_five_class_labels.csv')"
   ]
  },
  {
   "cell_type": "code",
   "execution_count": null,
   "metadata": {
    "id": "xqFEfedyJkv0"
   },
   "outputs": [],
   "source": [
    "data = np.load(label_path_NP)\n",
    "df = pd.DataFrame(data, columns = ['Wind Speed'])\n",
    "df['Wind Speed'] = df.apply(lambda row: categorise_seven_classes(row), axis = 1)\n",
    "df.to_csv('/content/drive/MyDrive/HURSAT/hursat/NA_seven_class_labels.csv')"
   ]
  },
  {
   "cell_type": "code",
   "execution_count": null,
   "metadata": {
    "id": "ArkUDH_FEaQs"
   },
   "outputs": [],
   "source": [
    "data = np.load(label_path_NP_NA)\n",
    "df = pd.DataFrame(data, columns = ['Wind Speed'])\n",
    "df['Wind Speed'] = df.apply(lambda row: categorise_five_classes(row), axis = 1)\n",
    "df.to_csv('/content/drive/MyDrive/HURSAT/hursat/NP_NA_five_class_labels.csv')"
   ]
  },
  {
   "cell_type": "code",
   "execution_count": null,
   "metadata": {
    "id": "vfIe8ypYJOZl"
   },
   "outputs": [],
   "source": [
    "data = np.load(label_path_NP_NA)\n",
    "df = pd.DataFrame(data, columns = ['Wind Speed'])\n",
    "df['Wind Speed'] = df.apply(lambda row: categorise_seven_classes(row), axis = 1)\n",
    "df.to_csv('/content/drive/MyDrive/HURSAT/hursat/NP_NA_seven_class_labels.csv')"
   ]
  },
  {
   "cell_type": "markdown",
   "metadata": {
    "id": "Sn1SyIy6EF2l"
   },
   "source": [
    "# **Classification**\n",
    "\n",
    "*Training: NA images, Testing: NI images, No. of classes: 5, Model: LeNet*"
   ]
  },
  {
   "cell_type": "code",
   "execution_count": null,
   "metadata": {
    "id": "6iVy5FHLEHAV"
   },
   "outputs": [],
   "source": [
    "num_classes = 5\n",
    "class_names = ['Tropical Depression',\"Tropical Storm\", 'Category 1', 'Category 2', 'Category 3']\n",
    "\n",
    "train_data = np.load('/content/drive/MyDrive/HURSAT/hursat/NA_images.npy')\n",
    "train_data = np.reshape(train_data, (14296, 50, 50, 1))\n",
    "\n",
    "test_data = np.load('/content/drive/MyDrive/HURSAT/hursat/NI_images.npy')\n",
    "test_data = np.reshape(test_data,(195, 50, 50, 1))\n",
    "\n",
    "train_data = train_data/255\n",
    "test_data = test_data/255"
   ]
  },
  {
   "cell_type": "code",
   "execution_count": null,
   "metadata": {
    "id": "gN7DR4FTFHfg"
   },
   "outputs": [],
   "source": [
    "train_labels = pd.read_csv('/content/drive/MyDrive/HURSAT/hursat/NA_five_class_labels.csv')\n",
    "train_label_data = pd.Series(train_labels['Wind Speed'])"
   ]
  },
  {
   "cell_type": "code",
   "execution_count": null,
   "metadata": {
    "id": "hGZ7_NooGUv3"
   },
   "outputs": [],
   "source": [
    "lb = LabelBinarizer()\n",
    "train_label_data = lb.fit_transform(train_label_data)"
   ]
  },
  {
   "cell_type": "code",
   "execution_count": null,
   "metadata": {
    "id": "VOUmT8hAGWUk"
   },
   "outputs": [],
   "source": [
    "X_train, X_val, Y_train, Y_val = train_test_split(train_data, train_label_data, test_size = 0.2, random_state = 43)"
   ]
  },
  {
   "cell_type": "code",
   "execution_count": null,
   "metadata": {
    "id": "So8mZeS3YhzX"
   },
   "outputs": [],
   "source": [
    "save_at = \"/content/drive/MyDrive/HURSAT/hursat/lenet5_classification_model_NA_five_classes.hdf5\"\n",
    "save_best = ModelCheckpoint(save_at, monitor = 'val_accuracy', verbose = 0, save_best_only = True, save_weights_only = False, mode = 'max')"
   ]
  },
  {
   "cell_type": "code",
   "execution_count": null,
   "metadata": {
    "id": "DIkyGIhw01fH"
   },
   "outputs": [],
   "source": [
    "# Load the Proposed Model\n",
    "model = tf.keras.models.Sequential([\n",
    "tf.keras.layers.Conv2D(32, (3, 3), input_shape = (50, 50, 1), activation = 'relu'),\n",
    "tf.keras.layers.MaxPooling2D(pool_size = (2, 2)),\n",
    "tf.keras.layers.Dropout(0.4),\n",
    "\n",
    "tf.keras.layers.Conv2D(64, (3, 3), activation = 'relu'),\n",
    "tf.keras.layers.MaxPooling2D(pool_size = (2, 2)),\n",
    "tf.keras.layers.Dropout(0.4),\n",
    "\n",
    "tf.keras.layers.Conv2D(128, (3, 3), activation = 'relu'),\n",
    "tf.keras.layers.MaxPooling2D(pool_size = (2, 2)),\n",
    "tf.keras.layers.Dropout(0.4),\n",
    "\n",
    "tf.keras.layers.Flatten(),\n",
    "tf.keras.layers.Dropout(0.4),\n",
    "tf.keras.layers.Dense(units = 512, activation = 'relu'),\n",
    "tf.keras.layers.Dropout(0.4),\n",
    "tf.keras.layers.Dense(num_classes, activation = 'softmax')\n",
    "])"
   ]
  },
  {
   "cell_type": "code",
   "execution_count": null,
   "metadata": {
    "id": "HY1PYUgXGcNw"
   },
   "outputs": [],
   "source": [
    "#Lenet Model\n",
    "model = models.Sequential()\n",
    "model.add(layers.Conv2D(32,(5,5), activation=\"relu\", input_shape=(50,50,1), padding='same', strides = 1))\n",
    "model.add(layers.MaxPooling2D((2,2)))\n",
    "model.add(layers.Conv2D(64, (5,5), activation=\"relu\", padding='valid', strides = 1))\n",
    "model.add(layers.MaxPooling2D((2,2)))\n",
    "model.add(layers.Conv2D(64, (5,5), activation=\"relu\", padding='valid', strides = 1))\n",
    "model.add(layers.Flatten())\n",
    "model.add(layers.Dense(64, activation=\"relu\"))\n",
    "model.add(Dropout(0.3))\n",
    "model.add(layers.Dense(num_classes, activation = 'softmax'))"
   ]
  },
  {
   "cell_type": "code",
   "execution_count": null,
   "metadata": {
    "id": "eK7rrx6k3S5Q"
   },
   "outputs": [],
   "source": [
    "model.summary()"
   ]
  },
  {
   "cell_type": "code",
   "execution_count": null,
   "metadata": {
    "id": "QUztorPzGgR4"
   },
   "outputs": [],
   "source": [
    "model.compile(loss = losses.categorical_crossentropy, optimizer = Adam(learning_rate = 0.0001), metrics = ['accuracy'])"
   ]
  },
  {
   "cell_type": "code",
   "execution_count": null,
   "metadata": {
    "id": "9537yeenGhhQ"
   },
   "outputs": [],
   "source": [
    "history = model.fit(X_train, Y_train, batch_size = 4, epochs = 40, verbose = 1, validation_data = (X_val, Y_val), shuffle = True, callbacks = [save_best])"
   ]
  },
  {
   "cell_type": "code",
   "execution_count": null,
   "metadata": {
    "id": "_DoPToPLGiyv"
   },
   "outputs": [],
   "source": [
    "plt.figure(figsize = (7, 7))\n",
    "plt.plot(history.history['accuracy'], 'g')\n",
    "plt.plot(history.history['val_accuracy'], 'b')\n",
    "plt.xticks(np.arange(1, 40, 2))\n",
    "plt.title('training accuracy vs validation accuracy')\n",
    "plt.xlabel('No. of Epochs')\n",
    "plt.ylabel('Accuracy')\n",
    "plt.legend(['train', 'validation'])\n",
    "plt.grid(color = 'y', linewidth='0.5')\n",
    "plt.show()\n",
    "\n",
    "plt.figure(figsize = (7, 7))\n",
    "plt.plot(history.history['loss'], 'g')\n",
    "plt.plot(history.history['val_loss'], 'b')\n",
    "plt.xticks(np.arange(1, 40, 2))\n",
    "plt.title('training loss vs validation loss')\n",
    "plt.xlabel('No. of Epochs')\n",
    "plt.ylabel('loss')\n",
    "plt.legend(['train', 'validation'])\n",
    "plt.grid(color = 'y', linewidth = '0.5')\n",
    "plt.show()"
   ]
  },
  {
   "cell_type": "code",
   "execution_count": null,
   "metadata": {
    "id": "5n2UGBAPhff6"
   },
   "outputs": [],
   "source": [
    "model = load_model('/content/drive/MyDrive/HURSAT/hursat/lenet5_classification_model_NA_five_classes.hdf5')"
   ]
  },
  {
   "cell_type": "code",
   "execution_count": null,
   "metadata": {
    "id": "nZEX8t-1LMDb"
   },
   "outputs": [],
   "source": [
    "score, acc = model.evaluate(X_val, Y_val)\n",
    "print('Validation Accuracy:', acc)"
   ]
  },
  {
   "cell_type": "code",
   "execution_count": null,
   "metadata": {
    "id": "N8yo2k8_HEA2"
   },
   "outputs": [],
   "source": [
    "pred = model.predict(test_data, verbose = 1)\n",
    "pred_labels = np.argmax(pred, axis = 1)"
   ]
  },
  {
   "cell_type": "code",
   "execution_count": null,
   "metadata": {
    "id": "5j6WQFcQH9_f"
   },
   "outputs": [],
   "source": [
    "test_labels = np.load('/content/drive/MyDrive/HURSAT/hursat/NI_labels.npy')\n",
    "temp = []\n",
    "for i in test_labels:\n",
    "    if i <= 33:\n",
    "        temp.append(0)\n",
    "    elif i <= 64:\n",
    "        temp.append(1)\n",
    "    elif i <= 83:\n",
    "        temp.append(2)\n",
    "    elif i <= 95:\n",
    "        temp.append(3)\n",
    "    else:\n",
    "        temp.append(4)"
   ]
  },
  {
   "cell_type": "code",
   "execution_count": null,
   "metadata": {
    "id": "cSZ8vd9qQFln"
   },
   "outputs": [],
   "source": [
    "test_accuracy = np.mean(pred_labels == temp)\n",
    "print(\"Test accuracy:\", test_accuracy)"
   ]
  },
  {
   "cell_type": "code",
   "execution_count": null,
   "metadata": {
    "id": "U4wIekVhHSfI"
   },
   "outputs": [],
   "source": [
    "cm = confusion_matrix(temp, pred_labels)\n",
    "disp = ConfusionMatrixDisplay(confusion_matrix = cm, display_labels = class_names)\n",
    "fig, ax = plt.subplots(figsize = (7, 7))\n",
    "disp.plot(ax = ax);"
   ]
  },
  {
   "cell_type": "markdown",
   "metadata": {
    "id": "yFc-hb6UJC0m"
   },
   "source": [
    "# **Classification**\n",
    "\n",
    "*Training: NP images, Testing: NI images, No. of classes: 5, Model: LeNet*"
   ]
  },
  {
   "cell_type": "code",
   "execution_count": null,
   "metadata": {
    "id": "PVYaHKS4JnwZ"
   },
   "outputs": [],
   "source": [
    "num_classes = 5\n",
    "class_names = ['Tropical Depression', \"Tropical Storm\", 'Category 1', 'Category 2', 'Category 3']\n",
    "\n",
    "train_data = np.load('/content/drive/MyDrive/HURSAT/hursat/NP_images.npy')\n",
    "train_data = np.reshape(train_data, (6189, 50, 50, 1))\n",
    "\n",
    "test_data = np.load('/content/drive/MyDrive/HURSAT/hursat/NI_images.npy')\n",
    "test_data = np.reshape(test_data,(195, 50, 50, 1))\n",
    "\n",
    "train_data = train_data/255\n",
    "test_data = test_data/255"
   ]
  },
  {
   "cell_type": "code",
   "execution_count": null,
   "metadata": {
    "id": "8cwqB0SfJnwa"
   },
   "outputs": [],
   "source": [
    "train_labels = pd.read_csv('/content/drive/MyDrive/HURSAT/hursat/NP_five_class_labels.csv')\n",
    "train_label_data = pd.Series(train_labels['Wind Speed'])"
   ]
  },
  {
   "cell_type": "code",
   "execution_count": null,
   "metadata": {
    "id": "yqTWPO4cJnwc"
   },
   "outputs": [],
   "source": [
    "lb = LabelBinarizer()\n",
    "train_label_data = lb.fit_transform(train_label_data)"
   ]
  },
  {
   "cell_type": "code",
   "execution_count": null,
   "metadata": {
    "id": "m7kwRlKaJtRC"
   },
   "outputs": [],
   "source": [
    "X_train, X_val, Y_train, Y_val = train_test_split(train_data, train_label_data, test_size = 0.2, random_state = 431)"
   ]
  },
  {
   "cell_type": "code",
   "execution_count": null,
   "metadata": {
    "id": "NrY6m_d4Ib7M"
   },
   "outputs": [],
   "source": [
    "save_at = \"/content/drive/MyDrive/HURSAT/hursat/lenet5_classification_model_NP_five_classes.hdf5\"\n",
    "save_best = ModelCheckpoint (save_at, monitor = 'val_accuracy', verbose = 0, save_best_only = True, save_weights_only = False, mode = 'max')"
   ]
  },
  {
   "cell_type": "code",
   "execution_count": null,
   "metadata": {
    "id": "OJPJfgQ4JegO"
   },
   "outputs": [],
   "source": [
    "#Lenet Model\n",
    "model = models.Sequential()\n",
    "model.add(layers.Conv2D(32,(5,5), activation=\"relu\", input_shape=(50,50,1), padding='same', strides = 1))\n",
    "model.add(layers.MaxPooling2D((2,2)))\n",
    "model.add(layers.Conv2D(64, (5,5), activation=\"relu\", padding='valid', strides = 1))\n",
    "model.add(layers.MaxPooling2D((2,2)))\n",
    "model.add(layers.Conv2D(64, (5,5), activation=\"relu\", padding='valid', strides = 1))\n",
    "model.add(layers.Flatten())\n",
    "model.add(layers.Dense(64, activation=\"relu\"))\n",
    "model.add(Dropout(0.3))\n",
    "model.add(layers.Dense(num_classes, activation = 'softmax'))"
   ]
  },
  {
   "cell_type": "code",
   "execution_count": null,
   "metadata": {
    "id": "CQ8dwvkCJegP"
   },
   "outputs": [],
   "source": [
    "model.compile(loss = losses.categorical_crossentropy, optimizer = Adam(learning_rate = 0.0001), metrics = ['accuracy'])"
   ]
  },
  {
   "cell_type": "code",
   "execution_count": null,
   "metadata": {
    "id": "l55h2AeQJegQ"
   },
   "outputs": [],
   "source": [
    "history = model.fit(X_train, Y_train, batch_size = 4, epochs = 40, verbose = 1, validation_data = (X_val, Y_val), shuffle = True, callbacks = [save_best])"
   ]
  },
  {
   "cell_type": "code",
   "execution_count": null,
   "metadata": {
    "id": "yC7Bjs3tJegR"
   },
   "outputs": [],
   "source": [
    "plt.figure(figsize = (7, 7))\n",
    "plt.plot(history.history['accuracy'], 'g')\n",
    "plt.plot(history.history['val_accuracy'], 'b')\n",
    "plt.xticks(np.arange(1, 40, 2))\n",
    "plt.title('training accuracy vs validation accuracy')\n",
    "plt.xlabel('No. of Epochs')\n",
    "plt.ylabel('Accuracy')\n",
    "plt.legend(['train', 'validation'])\n",
    "plt.grid(color = 'y', linewidth='0.5')\n",
    "plt.show()\n",
    "\n",
    "plt.figure(figsize = (7, 7))\n",
    "plt.plot(history.history['loss'], 'g')\n",
    "plt.plot(history.history['val_loss'], 'b')\n",
    "plt.xticks(np.arange(1, 40, 2))\n",
    "plt.title('training loss vs validation loss')\n",
    "plt.xlabel('No. of Epochs')\n",
    "plt.ylabel('loss')\n",
    "plt.legend(['train', 'validation'])\n",
    "plt.grid(color = 'y', linewidth='0.5')\n",
    "plt.show()"
   ]
  },
  {
   "cell_type": "code",
   "execution_count": null,
   "metadata": {
    "id": "_7Gxp37JVpm3"
   },
   "outputs": [],
   "source": [
    "model = load_model('/content/drive/MyDrive/HURSAT/hursat/lenet5_classification_model_NP_five_classes.hdf5')"
   ]
  },
  {
   "cell_type": "code",
   "execution_count": null,
   "metadata": {
    "id": "sIKuuQN3KwtV"
   },
   "outputs": [],
   "source": [
    "score, acc = model.evaluate(X_val, Y_val)\n",
    "print('Validation Accuracy:', acc)"
   ]
  },
  {
   "cell_type": "code",
   "execution_count": null,
   "metadata": {
    "id": "N_OVbUCrJUXk"
   },
   "outputs": [],
   "source": [
    "pred = model.predict(test_data, verbose = 1)\n",
    "pred_labels = np.argmax(pred, axis = 1)"
   ]
  },
  {
   "cell_type": "code",
   "execution_count": null,
   "metadata": {
    "id": "Y7KPKOhOJUXl"
   },
   "outputs": [],
   "source": [
    "test_labels = np.load('/content/drive/MyDrive/HURSAT/hursat/NI_labels.npy')\n",
    "temp = []\n",
    "for i in test_labels:\n",
    "    if i <= 33:\n",
    "        temp.append(0)\n",
    "    elif i <= 64:\n",
    "        temp.append(1)\n",
    "    elif i <= 83:\n",
    "        temp.append(2)\n",
    "    elif i <= 95:\n",
    "        temp.append(3)\n",
    "    else:\n",
    "        temp.append(4)"
   ]
  },
  {
   "cell_type": "code",
   "execution_count": null,
   "metadata": {
    "id": "AsH51fYdV5EM"
   },
   "outputs": [],
   "source": [
    "test_accuracy = np.mean(pred_labels == temp)\n",
    "print(\"Test accuracy:\", test_accuracy)"
   ]
  },
  {
   "cell_type": "code",
   "execution_count": null,
   "metadata": {
    "id": "lKUwgGnHJUXn"
   },
   "outputs": [],
   "source": [
    "cm = confusion_matrix(temp, pred_labels)\n",
    "disp = ConfusionMatrixDisplay(confusion_matrix = cm, display_labels = class_names)\n",
    "fig, ax = plt.subplots(figsize = (7, 7))\n",
    "disp.plot(ax = ax);"
   ]
  },
  {
   "cell_type": "markdown",
   "metadata": {
    "id": "NV0fbE-9LQpA"
   },
   "source": [
    "# **Classification**\n",
    "\n",
    "*Training: NP + NA images, Testing: NI images, No. of classes: 5, Model: LeNet*"
   ]
  },
  {
   "cell_type": "code",
   "execution_count": null,
   "metadata": {
    "id": "Rz14z7fZLQpB"
   },
   "outputs": [],
   "source": [
    "num_classes = 5\n",
    "class_names = ['Tropical Depression',\"Tropical Storm\", 'Category 1', 'Category 2', 'Category 3']\n",
    "\n",
    "train_data = np.load('/content/drive/MyDrive/HURSAT/hursat/NP_NA_images.npy')\n",
    "train_data = np.reshape(train_data, (20485, 50, 50, 1))\n",
    "\n",
    "test_data = np.load('/content/drive/MyDrive/HURSAT/hursat/NI_images.npy')\n",
    "test_data = np.reshape(test_data,(195, 50, 50, 1))\n",
    "\n",
    "train_data = train_data/255\n",
    "test_data = test_data/255"
   ]
  },
  {
   "cell_type": "code",
   "execution_count": null,
   "metadata": {
    "id": "IaSDuW-lLQpD"
   },
   "outputs": [],
   "source": [
    "train_labels = pd.read_csv('/content/drive/MyDrive/HURSAT/hursat/NP_NA_five_class_labels.csv')\n",
    "train_label_data = pd.Series(train_labels['Wind Speed'])"
   ]
  },
  {
   "cell_type": "code",
   "execution_count": null,
   "metadata": {
    "id": "fPUGH2YnLQpE"
   },
   "outputs": [],
   "source": [
    "lb = LabelBinarizer()\n",
    "train_label_data = lb.fit_transform(train_label_data)"
   ]
  },
  {
   "cell_type": "code",
   "execution_count": null,
   "metadata": {
    "id": "ztFpbRYZLQpF"
   },
   "outputs": [],
   "source": [
    "X_train, X_val, Y_train, Y_val = train_test_split(train_data, train_label_data, test_size = 0.2, random_state = 431)"
   ]
  },
  {
   "cell_type": "code",
   "execution_count": null,
   "metadata": {
    "id": "gHpJ6N85J2sS"
   },
   "outputs": [],
   "source": [
    "save_at = \"/content/drive/MyDrive/HURSAT/hursat/lenet5_classification_model_NP_NA_five_classes.hdf5\"\n",
    "save_best = ModelCheckpoint (save_at, monitor = 'val_accuracy', verbose = 0, save_best_only = True, save_weights_only = False, mode = 'max')"
   ]
  },
  {
   "cell_type": "code",
   "execution_count": null,
   "metadata": {
    "id": "rTMangotLQpG"
   },
   "outputs": [],
   "source": [
    "#Lenet Model\n",
    "model = models.Sequential()\n",
    "model.add(layers.Conv2D(32,(5,5), activation=\"relu\", input_shape=(50,50,1), padding='same', strides = 1))\n",
    "model.add(layers.MaxPooling2D((2,2)))\n",
    "model.add(layers.Conv2D(64, (5,5), activation=\"relu\", padding='valid', strides = 1))\n",
    "model.add(layers.MaxPooling2D((2,2)))\n",
    "model.add(layers.Conv2D(64, (5,5), activation=\"relu\", padding='valid', strides = 1))\n",
    "model.add(layers.Flatten())\n",
    "model.add(layers.Dense(64, activation=\"relu\"))\n",
    "model.add(Dropout(0.3))\n",
    "model.add(layers.Dense(num_classes, activation = 'softmax'))"
   ]
  },
  {
   "cell_type": "code",
   "execution_count": null,
   "metadata": {
    "id": "dvKqep4ILQpH"
   },
   "outputs": [],
   "source": [
    "model.compile(loss = losses.categorical_crossentropy, optimizer = Adam(learning_rate = 0.0001), metrics = ['accuracy'])"
   ]
  },
  {
   "cell_type": "code",
   "execution_count": null,
   "metadata": {
    "id": "5TSiWoJhLQpH"
   },
   "outputs": [],
   "source": [
    "history = model.fit(X_train, Y_train, batch_size = 4, epochs = 40, verbose = 1, validation_data = (X_val, Y_val), shuffle = True, callbacks = [save_best])"
   ]
  },
  {
   "cell_type": "code",
   "execution_count": null,
   "metadata": {
    "id": "YilwSe0GLQpI"
   },
   "outputs": [],
   "source": [
    "plt.figure(figsize = (7, 7))\n",
    "plt.plot(history.history['accuracy'], 'g')\n",
    "plt.plot(history.history['val_accuracy'], 'b')\n",
    "plt.xticks(np.arange(1, 40, 2))\n",
    "plt.title('training accuracy vs validation accuracy')\n",
    "plt.xlabel('No. of Epochs')\n",
    "plt.ylabel('Accuracy')\n",
    "plt.legend(['train', 'validation'])\n",
    "plt.grid(color = 'y', linewidth='0.5')\n",
    "plt.show()\n",
    "\n",
    "plt.figure(figsize = (7, 7))\n",
    "plt.plot(history.history['loss'], 'g')\n",
    "plt.plot(history.history['val_loss'], 'b')\n",
    "plt.xticks(np.arange(1, 40, 2))\n",
    "plt.title('training loss vs validation loss')\n",
    "plt.xlabel('No. of Epochs')\n",
    "plt.ylabel('loss')\n",
    "plt.legend(['train', 'validation'])\n",
    "plt.grid(color = 'y', linewidth='0.5')\n",
    "plt.show()"
   ]
  },
  {
   "cell_type": "code",
   "execution_count": null,
   "metadata": {
    "id": "-oQFwTHDLQpK"
   },
   "outputs": [],
   "source": [
    "score, acc = model.evaluate(X_val, Y_val)\n",
    "print('Validation Accuracy:', acc)"
   ]
  },
  {
   "cell_type": "code",
   "execution_count": null,
   "metadata": {
    "id": "PAAlIZsCLQpK"
   },
   "outputs": [],
   "source": [
    "pred = model.predict(test_data, verbose = 1)\n",
    "pred_labels = np.argmax(pred, axis = 1)"
   ]
  },
  {
   "cell_type": "code",
   "execution_count": null,
   "metadata": {
    "id": "zGibtY_3LQpK"
   },
   "outputs": [],
   "source": [
    "test_labels = np.load('/content/drive/MyDrive/HURSAT/hursat/NI_labels.npy')\n",
    "temp = []\n",
    "for i in test_labels:\n",
    "    if i <= 33:\n",
    "        temp.append(0)\n",
    "    elif i <= 64:\n",
    "        temp.append(1)\n",
    "    elif i <= 83:\n",
    "        temp.append(2)\n",
    "    elif i <= 95:\n",
    "        temp.append(3)\n",
    "    else:\n",
    "        temp.append(4)"
   ]
  },
  {
   "cell_type": "code",
   "execution_count": null,
   "metadata": {
    "id": "g1S4TG4DLQpL"
   },
   "outputs": [],
   "source": [
    "cm = confusion_matrix(temp, pred_labels)\n",
    "disp = ConfusionMatrixDisplay(confusion_matrix = cm, display_labels = class_names)\n",
    "fig, ax = plt.subplots(figsize = (7, 7))\n",
    "disp.plot(ax = ax);"
   ]
  },
  {
   "cell_type": "markdown",
   "metadata": {
    "id": "SnQWbNbhBBoJ"
   },
   "source": [
    "# **Classification**\n",
    "*Training: NP images, Testing: NI images, No. of classes: 7, Model: LeNet*"
   ]
  },
  {
   "cell_type": "code",
   "execution_count": null,
   "metadata": {
    "id": "9Na6WhpAVZ_6"
   },
   "outputs": [],
   "source": [
    "num_classes = 7\n",
    "class_names = ['Tropical Depression', \"Tropical Storm\", 'Category 1', 'Category 2', 'Category 3', 'Category 4', 'Category 5']\n",
    "\n",
    "train_data = np.load('/content/drive/MyDrive/HURSAT/hursat/NP_images.npy')\n",
    "train_data = np.reshape(train_data, (6189, 50, 50, 1))\n",
    "\n",
    "test_data = np.load('/content/drive/MyDrive/HURSAT/hursat/NI_images.npy')\n",
    "test_data = np.reshape(test_data,(195, 50, 50, 1))\n",
    "\n",
    "train_data = train_data / 255\n",
    "test_data = test_data / 255"
   ]
  },
  {
   "cell_type": "code",
   "execution_count": null,
   "metadata": {
    "id": "hZKjRFJKDWRj"
   },
   "outputs": [],
   "source": [
    "train_labels = pd.read_csv('/content/drive/MyDrive/HURSAT/hursat/NP_seven_class_labels.csv')\n",
    "train_label_data = pd.Series(train_labels['Wind Speed'])"
   ]
  },
  {
   "cell_type": "code",
   "execution_count": null,
   "metadata": {
    "id": "vCjVppx7DjK4"
   },
   "outputs": [],
   "source": [
    "lb = LabelBinarizer()\n",
    "train_label_data = lb.fit_transform(train_label_data)"
   ]
  },
  {
   "cell_type": "code",
   "execution_count": null,
   "metadata": {
    "id": "fHeICZNzD_yw"
   },
   "outputs": [],
   "source": [
    "X_train, X_val, Y_train, Y_val = train_test_split(train_data, train_label_data, test_size = 0.2, random_state = 431)"
   ]
  },
  {
   "cell_type": "code",
   "execution_count": null,
   "metadata": {
    "id": "uwBahGBXLHh7"
   },
   "outputs": [],
   "source": [
    "save_at = \"/content/drive/MyDrive/hursat/lenet5_classification_model_NP_seven_classes.hdf5\"\n",
    "save_best = ModelCheckpoint (save_at, monitor = 'val_accuracy', verbose = 0, save_best_only = True, save_weights_only = False, mode = 'max')"
   ]
  },
  {
   "cell_type": "code",
   "execution_count": null,
   "metadata": {
    "id": "n0TK526nQMLl"
   },
   "outputs": [],
   "source": [
    "#Lenet Model\n",
    "model = models.Sequential()\n",
    "model.add(layers.Conv2D(32, (5, 5), activation = \"relu\", input_shape = (50, 50, 1), padding = 'same', strides = 1))\n",
    "model.add(layers.MaxPooling2D((2, 2)))\n",
    "model.add(layers.Conv2D(64, (5, 5), activation = \"relu\", padding = 'valid', strides = 1))\n",
    "model.add(layers.MaxPooling2D((2,2)))\n",
    "model.add(layers.Conv2D(64, (5,5), activation = \"relu\", padding = 'valid', strides = 1))\n",
    "model.add(layers.Flatten())\n",
    "model.add(layers.Dense(64, activation = \"relu\"))\n",
    "model.add(Dropout(0.3))\n",
    "model.add(layers.Dense(num_classes, activation = 'softmax'))"
   ]
  },
  {
   "cell_type": "code",
   "execution_count": null,
   "metadata": {
    "id": "aSl_06VACN4h"
   },
   "outputs": [],
   "source": [
    "model.compile(loss = losses.categorical_crossentropy, optimizer = Adam(learning_rate, beta_1 = 0.9, beta_2 = 0.999), metrics = ['accuracy'])"
   ]
  },
  {
   "cell_type": "code",
   "execution_count": null,
   "metadata": {
    "id": "PFYmMZUiENYg"
   },
   "outputs": [],
   "source": [
    "history = model.fit(X_train, Y_train, batch_size = 8, epochs = 40, verbose = 1, validation_data = (X_val,Y_val), shuffle = True, callbacks = [save_best])"
   ]
  },
  {
   "cell_type": "code",
   "execution_count": null,
   "metadata": {
    "id": "wpXjLDzhNUBF"
   },
   "outputs": [],
   "source": [
    "plt.figure(figsize = (7, 7))\n",
    "plt.plot(history.history['accuracy'], 'g')\n",
    "plt.plot(history.history['val_accuracy'], 'b')\n",
    "plt.xticks(np.arange(1, 40, 2))\n",
    "plt.title('training accuracy vs validation accuracy')\n",
    "plt.xlabel('No. of Epochs')\n",
    "plt.ylabel('Accuracy')\n",
    "plt.legend(['train', 'validation'])\n",
    "plt.grid(color = 'y', linewidth='0.5')\n",
    "plt.show()\n",
    "\n",
    "plt.figure(figsize = (7, 7))\n",
    "plt.plot(history.history['loss'], 'g')\n",
    "plt.plot(history.history['val_loss'], 'b')\n",
    "plt.xticks(np.arange(1, 40, 2))\n",
    "plt.title('training loss vs validation loss')\n",
    "plt.xlabel('No. of Epochs')\n",
    "plt.ylabel('loss')\n",
    "plt.legend(['train', 'validation'])\n",
    "plt.grid(color = 'y', linewidth='0.5')\n",
    "plt.show()"
   ]
  },
  {
   "cell_type": "code",
   "execution_count": null,
   "metadata": {
    "id": "uInm8U_RNfzR"
   },
   "outputs": [],
   "source": [
    "score, acc = model.evaluate(X_val, Y_val)\n",
    "print('Validation Accuracy:', acc)"
   ]
  },
  {
   "cell_type": "code",
   "execution_count": null,
   "metadata": {
    "id": "AySoaKncNhYq"
   },
   "outputs": [],
   "source": [
    "pred = model.predict(test_data, verbose = 1)\n",
    "pred_labels = np.argmax(pred, axis = 1)"
   ]
  },
  {
   "cell_type": "code",
   "execution_count": null,
   "metadata": {
    "id": "eJVnaU_ZNmg2"
   },
   "outputs": [],
   "source": [
    "test_labels = np.load('/content/drive/MyDrive/hursat/NI_labels.npy')\n",
    "temp = []\n",
    "for i in test_labels:\n",
    "    if i <= 33:\n",
    "        temp.append(0)\n",
    "    elif i <= 64:\n",
    "        temp.append(1)\n",
    "    elif i <= 83:\n",
    "        temp.append(2)\n",
    "    elif i <= 95:\n",
    "        temp.append(3)\n",
    "    elif i <= 113:\n",
    "        temp.append(4)\n",
    "    elif i <= 134:\n",
    "        temp.append(5)\n",
    "    else:\n",
    "        temp.append(6)"
   ]
  },
  {
   "cell_type": "code",
   "execution_count": null,
   "metadata": {
    "id": "CYvrEKgrNo5K"
   },
   "outputs": [],
   "source": [
    "cm = confusion_matrix(temp, pred_labels)\n",
    "disp = ConfusionMatrixDisplay(confusion_matrix = cm, display_labels = class_names)\n",
    "fig, ax = plt.subplots(figsize = (7, 7))\n",
    "disp.plot(ax = ax);"
   ]
  },
  {
   "cell_type": "markdown",
   "metadata": {
    "id": "myhTirxhYfWU"
   },
   "source": [
    "# **Classification**\n",
    "*Training: NA images, Testing: NI images, No. of classes: 7, Model: LeNet*"
   ]
  },
  {
   "cell_type": "code",
   "execution_count": null,
   "metadata": {
    "id": "yNcEL4eOYZ_-"
   },
   "outputs": [],
   "source": [
    "num_classes = 7\n",
    "class_names = ['Tropical Depression',\"Tropical Storm\", 'Category 1', 'Category 2', 'Category 3', 'Category 4', 'Category 5']\n",
    "\n",
    "train_data = np.load('/content/drive/MyDrive/HURSAT/hursat/NA_images.npy')\n",
    "train_data = np.reshape(train_data, (14296, 50, 50, 1))\n",
    "\n",
    "test_data = np.load('/content/drive/MyDrive/HURSAT/hursat/NI_images.npy')\n",
    "test_data = np.reshape(test_data,(195, 50, 50, 1))\n",
    "\n",
    "train_data = train_data/255\n",
    "test_data = test_data/255"
   ]
  },
  {
   "cell_type": "code",
   "execution_count": null,
   "metadata": {
    "id": "kbEMpoj9ZGH0"
   },
   "outputs": [],
   "source": [
    "labels = pd.read_csv('/content/drive/MyDrive/HURSAT/hursat/NA_seven_class_labels.csv')"
   ]
  },
  {
   "cell_type": "code",
   "execution_count": null,
   "metadata": {
    "id": "QomhtaJrZ-Bt"
   },
   "outputs": [],
   "source": [
    "label_data = pd.Series(labels['Wind Speed'])"
   ]
  },
  {
   "cell_type": "code",
   "execution_count": null,
   "metadata": {
    "id": "rpp50XQwZsqT"
   },
   "outputs": [],
   "source": [
    "#Normalization\n",
    "lb = LabelBinarizer()\n",
    "label_data = lb.fit_transform(label_data)"
   ]
  },
  {
   "cell_type": "code",
   "execution_count": null,
   "metadata": {
    "id": "X2MH5sU2a4L4"
   },
   "outputs": [],
   "source": [
    "X_train,X_val,Y_train,Y_val = train_test_split(train_data, label_data, test_size = 0.2, random_state = 43)"
   ]
  },
  {
   "cell_type": "code",
   "execution_count": null,
   "metadata": {
    "id": "fTCBs3JNMuTA"
   },
   "outputs": [],
   "source": [
    "save_at = \"/content/drive/MyDrive/HURSAT/hursat/lenet5_classification_model_NA_seven_classes.hdf5\"\n",
    "save_best = ModelCheckpoint (save_at, monitor = 'val_accuracy', verbose = 0, save_best_only = True, save_weights_only = False, mode = 'max')"
   ]
  },
  {
   "cell_type": "code",
   "execution_count": null,
   "metadata": {
    "id": "t-VyvY40R4_x"
   },
   "outputs": [],
   "source": [
    "#Lenet Model\n",
    "model = models.Sequential()\n",
    "model.add(layers.Conv2D(32, (5, 5), activation = \"relu\", input_shape = (50, 50, 1), padding = 'same', strides = 1))\n",
    "model.add(layers.MaxPooling2D((2, 2)))\n",
    "model.add(layers.Conv2D(64, (5, 5), activation = \"relu\", padding = 'valid', strides = 1))\n",
    "model.add(layers.MaxPooling2D((2,2)))\n",
    "model.add(layers.Conv2D(64, (5,5), activation = \"relu\", padding = 'valid', strides = 1))\n",
    "model.add(layers.Flatten())\n",
    "model.add(layers.Dense(64, activation = \"relu\"))\n",
    "model.add(Dropout(0.3))\n",
    "model.add(layers.Dense(num_classes, activation = 'softmax'))"
   ]
  },
  {
   "cell_type": "code",
   "execution_count": null,
   "metadata": {
    "id": "ozdhRfhybLlx"
   },
   "outputs": [],
   "source": [
    "#Compile the model\n",
    "model.compile(loss = losses.categorical_crossentropy, optimizer = Adam(learning_rate, beta_1 = 0.9, beta_2 = 0.999), metrics = ['accuracy'])"
   ]
  },
  {
   "cell_type": "code",
   "execution_count": null,
   "metadata": {
    "id": "emVnvCe7bVcu"
   },
   "outputs": [],
   "source": [
    "#Training the model\n",
    "history = model.fit(X_train, Y_train, batch_size = 16, epochs = 40, verbose = 1, validation_data = (X_val, Y_val), shuffle = True, callbacks = [save_best])"
   ]
  },
  {
   "cell_type": "code",
   "execution_count": null,
   "metadata": {
    "id": "gFAfI-qGeXYS"
   },
   "outputs": [],
   "source": [
    "#Plots for training and validation process:loss and accuracy\n",
    "plt.figure(figsize = (7, 7))\n",
    "plt.plot(history.history['accuracy'],'g')\n",
    "plt.plot(history.history['val_accuracy'],'b')\n",
    "plt.xticks(np.arange(1,40,2))\n",
    "plt.title('training accuracy vs validation accuracy')\n",
    "plt.xlabel('No. of Epochs')\n",
    "plt.ylabel('Accuracy')\n",
    "plt.legend(['train','validation'])\n",
    "plt.grid(color = 'y', linewidth = '0.5')\n",
    "plt.show()\n",
    "\n",
    "plt.figure(figsize=(7,7))\n",
    "plt.plot(history.history['loss'],'g')\n",
    "plt.plot(history.history['val_loss'],'b')\n",
    "plt.xticks(np.arange(1,40,2))\n",
    "plt.title('training loss vs validation loss')\n",
    "plt.xlabel('No. of Epochs')\n",
    "plt.ylabel('loss')\n",
    "plt.legend(['train','validation'])\n",
    "plt.grid(color = 'y', linewidth = '0.5')\n",
    "plt.show()"
   ]
  },
  {
   "cell_type": "code",
   "execution_count": null,
   "metadata": {
    "id": "iQoc6QXYVd6p"
   },
   "outputs": [],
   "source": [
    "score, acc = model.evaluate(X_val, Y_val)\n",
    "print('Validation Accuracy:', acc)"
   ]
  },
  {
   "cell_type": "code",
   "execution_count": null,
   "metadata": {
    "id": "1PYCdGvBuVj0"
   },
   "outputs": [],
   "source": [
    "#predict the model\n",
    "pred = model.predict(test_data,verbose = 1)\n",
    "pred_labels = np.argmax(pred, axis = 1)"
   ]
  },
  {
   "cell_type": "code",
   "execution_count": null,
   "metadata": {
    "id": "q6Fje48wP0OB"
   },
   "outputs": [],
   "source": [
    "test_labels = np.load('/content/drive/MyDrive/hursat/NI_labels.npy')\n",
    "temp = []\n",
    "for i in test_labels:\n",
    "    if i <= 33:\n",
    "        temp.append(0)\n",
    "    elif i <= 64:\n",
    "        temp.append(1)\n",
    "    elif i <= 83:\n",
    "        temp.append(2)\n",
    "    elif i <= 95:\n",
    "        temp.append(3)\n",
    "    elif i <= 113:\n",
    "        temp.append(4)\n",
    "    elif i <= 134:\n",
    "        temp.append(5)\n",
    "    else:\n",
    "        temp.append(6)\n",
    "\n",
    "len(temp)"
   ]
  },
  {
   "cell_type": "code",
   "execution_count": null,
   "metadata": {
    "id": "TYV2yCwq8v_F"
   },
   "outputs": [],
   "source": [
    "cm = confusion_matrix(temp, pred_labels)\n",
    "disp = ConfusionMatrixDisplay(confusion_matrix=cm, display_labels=class_names)\n",
    "fig, ax = plt.subplots(figsize = (10,10))\n",
    "disp.plot(ax = ax);"
   ]
  },
  {
   "cell_type": "code",
   "execution_count": null,
   "metadata": {
    "id": "4Z6pekLk8xw0"
   },
   "outputs": [],
   "source": [
    "from sklearn.metrics import classification_report\n",
    "print(classification_report(temp, pred_labels, target_names = class_names))"
   ]
  },
  {
   "cell_type": "code",
   "execution_count": null,
   "metadata": {
    "id": "7vpYfYDnuY1d"
   },
   "outputs": [],
   "source": [
    "index = np.argmax(pred,axis=1)\n",
    "labels = lb.classes_[index]\n",
    "labels"
   ]
  },
  {
   "cell_type": "code",
   "execution_count": null,
   "metadata": {
    "id": "2LNUHY2CubCz"
   },
   "outputs": [],
   "source": [
    "def classification_evaluation(classification, predicted_labels, test_labels, test_images):\n",
    "    if classification== \"correct\":\n",
    "        indices_list = np.where(predicted_labels == test_labels)[0]\n",
    "    else:\n",
    "        indices_list = np.where(predicted_labels!= test_labels)[0]\n",
    "    test_images_filtered= [test_images[i] for i in indices_list]\n",
    "    images_labels_original= [test_labels[i] for i in indices_list]\n",
    "    images_labels_predicted= [pred_labels[i] for i in indices_list]\n",
    "    print(f\"{len(test_images_filtered)} images were classified {classification.upper()} out of a total of {len(test_images)} in the Test dataset\")\n",
    "\n",
    "    unique, counts = np.unique(images_labels_original, return_counts=True)\n",
    "    for i in range(0,len(unique)):\n",
    "        print(f\"for category {unique[i]} the number of {classification.upper()} classified images were: {counts[i]}\")\n",
    "\n",
    "\n",
    "    '''\n",
    "    # Plot some of the misclassified images\n",
    "    print(\"\\n\\n\")\n",
    "    fig,ax=plt.subplots(5,2)\n",
    "    fig.suptitle(f\"Sample of {classification.upper()} Classified Images\", fontsize=20)\n",
    "    fig.set_size_inches(15,15)\n",
    "    for i in range(5):\n",
    "        for j in range (2):\n",
    "            l=random.randint(0,len(test_images_filtered))\n",
    "            ax[i,j].imshow(test_images_filtered[l])\n",
    "            ax[i,j].set_title(\"Predicted: \"+str(images_labels_predicted[l])+\"\\n\"+\"Actual: \"+str(images_labels_original[l]))\n",
    "    plt.tight_layout()\n",
    "    '''"
   ]
  },
  {
   "cell_type": "code",
   "execution_count": null,
   "metadata": {
    "id": "LDFqFO-K9kv3"
   },
   "outputs": [],
   "source": [
    "classification_evaluation(\"incorrect\", pred_labels, temp, test_data)"
   ]
  },
  {
   "cell_type": "code",
   "execution_count": null,
   "metadata": {
    "id": "lAHZNW9U9qm1"
   },
   "outputs": [],
   "source": [
    "classification_evaluation(\"correct\", pred_labels, temp, test_data)"
   ]
  },
  {
   "cell_type": "markdown",
   "metadata": {
    "id": "eqGu0lV8L-l4"
   },
   "source": [
    "# **Classification**\n",
    "*Training: NP + NA, Testing: NI images, No. of classes: 7, Model: LeNet*"
   ]
  },
  {
   "cell_type": "code",
   "execution_count": null,
   "metadata": {
    "id": "6Lv2SF-7LUqT"
   },
   "outputs": [],
   "source": [
    "num_classes = 7\n",
    "class_names = ['Tropical Depression',\"Tropical Storm\", 'Category 1', 'Category 2', 'Category 3', 'Category 4', 'Category 5']\n",
    "\n",
    "train_data = np.load('/content/drive/MyDrive/hursat/NP_NA_images.npy')\n",
    "train_data = np.reshape(train_data, (20485, 50, 50, 1))\n",
    "\n",
    "test_data = np.load('/content/drive/MyDrive/hursat/NI_images.npy')\n",
    "test_data = np.reshape(test_data,(195, 50, 50, 1))\n",
    "\n",
    "train_data = train_data / 255\n",
    "test_data = test_data / 255"
   ]
  },
  {
   "cell_type": "code",
   "execution_count": null,
   "metadata": {
    "id": "2BRyldQqMc-E"
   },
   "outputs": [],
   "source": [
    "train_labels = pd.read_csv('/content/drive/MyDrive/hursat/NP_NA_seven_class_labels.csv')\n",
    "train_label_data = pd.Series(train_labels['Wind Speed'])"
   ]
  },
  {
   "cell_type": "code",
   "execution_count": null,
   "metadata": {
    "id": "ngYWeWbqevCB"
   },
   "outputs": [],
   "source": [
    "lb = LabelBinarizer()\n",
    "train_label_data = lb.fit_transform(train_label_data)"
   ]
  },
  {
   "cell_type": "code",
   "execution_count": null,
   "metadata": {
    "id": "32Q5iTKnMtsm"
   },
   "outputs": [],
   "source": [
    "X_train, X_val, Y_train, Y_val = train_test_split(train_data, train_label_data, test_size = 0.2, random_state = 431)"
   ]
  },
  {
   "cell_type": "code",
   "execution_count": null,
   "metadata": {
    "id": "jIr5-PSTKfVI"
   },
   "outputs": [],
   "source": [
    "save_at = \"/content/drive/MyDrive/hursat/lenet5_classification_model_NP_NA_seven_classes.hdf5\"\n",
    "save_best = ModelCheckpoint (save_at, monitor = 'val_accuracy', verbose = 0, save_best_only = True, save_weights_only = False, mode = 'max')"
   ]
  },
  {
   "cell_type": "code",
   "execution_count": null,
   "metadata": {
    "id": "vWVpFy4OnVaA"
   },
   "outputs": [],
   "source": [
    "#Lenet Model\n",
    "model = models.Sequential()\n",
    "model.add(layers.Conv2D(32, (5, 5), activation = \"relu\", input_shape = (50, 50, 1), padding = 'same', strides = 1))\n",
    "model.add(layers.MaxPooling2D((2, 2)))\n",
    "model.add(layers.Conv2D(64, (5, 5), activation = \"relu\", padding = 'valid', strides = 1))\n",
    "model.add(layers.MaxPooling2D((2,2)))\n",
    "model.add(layers.Conv2D(64, (5,5), activation = \"relu\", padding = 'valid', strides = 1))\n",
    "model.add(layers.Flatten())\n",
    "model.add(layers.Dense(64, activation = \"relu\"))\n",
    "model.add(Dropout(0.3))\n",
    "model.add(layers.Dense(num_classes, activation = 'softmax'))"
   ]
  },
  {
   "cell_type": "code",
   "execution_count": null,
   "metadata": {
    "id": "2Y7-og-iNCHa"
   },
   "outputs": [],
   "source": [
    "model.compile(loss = losses.categorical_crossentropy, optimizer = Adam(learning_rate, beta_1 = 0.9, beta_2 = 0.999), metrics = ['accuracy'])"
   ]
  },
  {
   "cell_type": "code",
   "execution_count": null,
   "metadata": {
    "id": "2fd5LfKvNE1U"
   },
   "outputs": [],
   "source": [
    "history = model.fit(X_train, Y_train, batch_size = 16, epochs = 50, verbose = 1, validation_data = (X_val, Y_val), shuffle = True, callbacks = [save_best])"
   ]
  },
  {
   "cell_type": "code",
   "execution_count": null,
   "metadata": {
    "id": "bFqx6CeKbm9e"
   },
   "outputs": [],
   "source": [
    "plt.figure(figsize = (7, 7))\n",
    "plt.plot(history.history['accuracy'], 'g')\n",
    "plt.plot(history.history['val_accuracy'], 'b')\n",
    "plt.xticks(np.arange(1, 50, 2))\n",
    "plt.title('training accuracy vs validation accuracy')\n",
    "plt.xlabel('No. of Epochs')\n",
    "plt.ylabel('Accuracy')\n",
    "plt.legend(['train', 'validation'])\n",
    "plt.grid(color = 'y', linewidth='0.5')\n",
    "plt.show()\n",
    "\n",
    "plt.figure(figsize = (7, 7))\n",
    "plt.plot(history.history['loss'], 'g')\n",
    "plt.plot(history.history['val_loss'], 'b')\n",
    "plt.xticks(np.arange(1, 50, 2))\n",
    "plt.title('training loss vs validation loss')\n",
    "plt.xlabel('No. of Epochs')\n",
    "plt.ylabel('loss')\n",
    "plt.legend(['train', 'validation'])\n",
    "plt.grid(color = 'y', linewidth='0.5')\n",
    "plt.show()"
   ]
  },
  {
   "cell_type": "code",
   "execution_count": null,
   "metadata": {
    "id": "4-ePFP5uMAxN"
   },
   "outputs": [],
   "source": [
    "score, acc = model.evaluate(X_val, Y_val)\n",
    "print('Validation Accuracy:', acc)"
   ]
  },
  {
   "cell_type": "code",
   "execution_count": null,
   "metadata": {
    "id": "OwOubG7zhIVw"
   },
   "outputs": [],
   "source": [
    "pred = model.predict(test_data, verbose = 1)\n",
    "pred_labels = np.argmax(pred, axis = 1)"
   ]
  },
  {
   "cell_type": "code",
   "execution_count": null,
   "metadata": {
    "id": "L0yTJB9kigE_"
   },
   "outputs": [],
   "source": [
    "test_labels = np.load('/content/drive/MyDrive/hursat/NI_labels.npy')"
   ]
  },
  {
   "cell_type": "code",
   "execution_count": null,
   "metadata": {
    "id": "9CIRxT7eiqtB"
   },
   "outputs": [],
   "source": [
    "temp = []\n",
    "for i in test_labels:\n",
    "    if i <= 33:\n",
    "        temp.append(0)\n",
    "    elif i <= 64:\n",
    "        temp.append(1)\n",
    "    elif i <= 83:\n",
    "        temp.append(2)\n",
    "    elif i <= 95:\n",
    "        temp.append(3)\n",
    "    elif i <= 113:\n",
    "        temp.append(4)\n",
    "    elif i <= 134:\n",
    "        temp.append(5)\n",
    "    else:\n",
    "        temp.append(6)"
   ]
  },
  {
   "cell_type": "code",
   "execution_count": null,
   "metadata": {
    "id": "1iJ9fpx1iqnZ"
   },
   "outputs": [],
   "source": [
    "cm = confusion_matrix(temp, pred_labels)\n",
    "disp = ConfusionMatrixDisplay(confusion_matrix = cm, display_labels = class_names)\n",
    "fig, ax = plt.subplots(figsize = (10, 10))\n",
    "disp.plot(ax = ax);"
   ]
  }
 ],
 "metadata": {
  "accelerator": "GPU",
  "colab": {
   "provenance": []
  },
  "gpuClass": "standard",
  "kernelspec": {
   "display_name": "Python 3 (ipykernel)",
   "language": "python",
   "name": "python3"
  },
  "language_info": {
   "codemirror_mode": {
    "name": "ipython",
    "version": 3
   },
   "file_extension": ".py",
   "mimetype": "text/x-python",
   "name": "python",
   "nbconvert_exporter": "python",
   "pygments_lexer": "ipython3",
   "version": "3.9.13"
  }
 },
 "nbformat": 4,
 "nbformat_minor": 1
}
